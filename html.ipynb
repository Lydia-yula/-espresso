{
 "cells": [
  {
   "cell_type": "code",
   "execution_count": null,
   "id": "6d1f8582",
   "metadata": {},
   "outputs": [],
   "source": [
    "! pip instal g"
   ]
  }
 ],
 "metadata": {
  "language_info": {
   "name": "python"
  }
 },
 "nbformat": 4,
 "nbformat_minor": 5
}
